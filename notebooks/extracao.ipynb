{
 "cells": [
  {
   "cell_type": "code",
   "execution_count": 4,
   "id": "212db003",
   "metadata": {},
   "outputs": [],
   "source": [
    "# Carga de biliotecas \n",
    "\n",
    "import os\n",
    "import pyodbc\n",
    "import time\n",
    "import pandas as pd\n",
    "from   dotenv import load_dotenv\n",
    "from   sqlalchemy import create_engine\n",
    "from   sqlalchemy import text"
   ]
  },
  {
   "cell_type": "code",
   "execution_count": 8,
   "id": "a40cc975",
   "metadata": {},
   "outputs": [],
   "source": [
    "load_dotenv()\n",
    "\n",
    "usuario  = os.getenv('DB_USER')\n",
    "servidor = os.getenv('DB_SERVER')\n",
    "senha    = os.getenv('DB_PASSWORD')\n",
    "banco    = os.getenv('DB_NAME')\n",
    "driver   = os.getenv('DB_DRIVER')"
   ]
  },
  {
   "cell_type": "code",
   "execution_count": 14,
   "id": "ba42d113",
   "metadata": {},
   "outputs": [],
   "source": [
    "# conexao com banco de dados de transacional\n",
    "\n",
    "engine = create_engine(f'mssql+pyodbc://{usuario}:{senha}@{servidor}/{banco}?driver={driver}')"
   ]
  },
  {
   "cell_type": "code",
   "execution_count": 15,
   "id": "a30ddf7a",
   "metadata": {},
   "outputs": [],
   "source": [
    "dfClientes = pd.read_sql('select * from CLIENTES',  con=engine)"
   ]
  },
  {
   "cell_type": "code",
   "execution_count": 16,
   "id": "eba4f80a",
   "metadata": {},
   "outputs": [
    {
     "data": {
      "text/html": [
       "<div>\n",
       "<style scoped>\n",
       "    .dataframe tbody tr th:only-of-type {\n",
       "        vertical-align: middle;\n",
       "    }\n",
       "\n",
       "    .dataframe tbody tr th {\n",
       "        vertical-align: top;\n",
       "    }\n",
       "\n",
       "    .dataframe thead th {\n",
       "        text-align: right;\n",
       "    }\n",
       "</style>\n",
       "<table border=\"1\" class=\"dataframe\">\n",
       "  <thead>\n",
       "    <tr style=\"text-align: right;\">\n",
       "      <th></th>\n",
       "      <th>NRO</th>\n",
       "      <th>ID_CLIENTE</th>\n",
       "      <th>NOMBRE</th>\n",
       "      <th>APELLIDO</th>\n",
       "      <th>EDAD</th>\n",
       "      <th>ESTADO_CIVIL</th>\n",
       "      <th>RESIDENCIA</th>\n",
       "      <th>ORIGEN</th>\n",
       "    </tr>\n",
       "  </thead>\n",
       "  <tbody>\n",
       "    <tr>\n",
       "      <th>0</th>\n",
       "      <td>1</td>\n",
       "      <td>CLI00001</td>\n",
       "      <td>Rayén</td>\n",
       "      <td>Vásquez</td>\n",
       "      <td>26</td>\n",
       "      <td>Casado</td>\n",
       "      <td>Baños Morales</td>\n",
       "      <td>Buchupureo</td>\n",
       "    </tr>\n",
       "    <tr>\n",
       "      <th>1</th>\n",
       "      <td>2</td>\n",
       "      <td>CLI00002</td>\n",
       "      <td>Amparo</td>\n",
       "      <td>Reyes</td>\n",
       "      <td>30</td>\n",
       "      <td>Viudo</td>\n",
       "      <td>Metri</td>\n",
       "      <td>Maitencillo</td>\n",
       "    </tr>\n",
       "    <tr>\n",
       "      <th>2</th>\n",
       "      <td>3</td>\n",
       "      <td>CLI00003</td>\n",
       "      <td>Josefa</td>\n",
       "      <td>Donoso</td>\n",
       "      <td>43</td>\n",
       "      <td>Soltero</td>\n",
       "      <td>Quillota</td>\n",
       "      <td>Ensenada</td>\n",
       "    </tr>\n",
       "    <tr>\n",
       "      <th>3</th>\n",
       "      <td>4</td>\n",
       "      <td>CLI00004</td>\n",
       "      <td>Millaray</td>\n",
       "      <td>Maldonado</td>\n",
       "      <td>22</td>\n",
       "      <td>Soltero</td>\n",
       "      <td>Piruquina</td>\n",
       "      <td>Llifén</td>\n",
       "    </tr>\n",
       "    <tr>\n",
       "      <th>4</th>\n",
       "      <td>5</td>\n",
       "      <td>CLI00005</td>\n",
       "      <td>Catalina</td>\n",
       "      <td>Olivares</td>\n",
       "      <td>39</td>\n",
       "      <td>Soltero</td>\n",
       "      <td>Mehuín</td>\n",
       "      <td>Nercón</td>\n",
       "    </tr>\n",
       "  </tbody>\n",
       "</table>\n",
       "</div>"
      ],
      "text/plain": [
       "   NRO ID_CLIENTE     NOMBRE    APELLIDO  EDAD ESTADO_CIVIL       RESIDENCIA  \\\n",
       "0    1   CLI00001     Rayén      Vásquez    26       Casado   Baños Morales    \n",
       "1    2   CLI00002    Amparo        Reyes    30        Viudo           Metri    \n",
       "2    3   CLI00003    Josefa       Donoso    43      Soltero        Quillota    \n",
       "3    4   CLI00004  Millaray    Maldonado    22      Soltero       Piruquina    \n",
       "4    5   CLI00005  Catalina     Olivares    39      Soltero          Mehuín    \n",
       "\n",
       "          ORIGEN  \n",
       "0    Buchupureo   \n",
       "1   Maitencillo   \n",
       "2      Ensenada   \n",
       "3        Llifén   \n",
       "4        Nercón   "
      ]
     },
     "execution_count": 16,
     "metadata": {},
     "output_type": "execute_result"
    }
   ],
   "source": [
    "dfClientes.head()"
   ]
  }
 ],
 "metadata": {
  "kernelspec": {
   "display_name": "env",
   "language": "python",
   "name": "python3"
  },
  "language_info": {
   "codemirror_mode": {
    "name": "ipython",
    "version": 3
   },
   "file_extension": ".py",
   "mimetype": "text/x-python",
   "name": "python",
   "nbconvert_exporter": "python",
   "pygments_lexer": "ipython3",
   "version": "3.12.7"
  }
 },
 "nbformat": 4,
 "nbformat_minor": 5
}
